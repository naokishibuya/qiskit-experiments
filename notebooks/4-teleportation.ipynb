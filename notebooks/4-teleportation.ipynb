{
 "cells": [
  {
   "cell_type": "markdown",
   "id": "76fff307",
   "metadata": {},
   "source": [
    "# Quantum Teleportation: Transmitting Qubits Without Sending Them\n",
    "\n",
    "Quantum teleportation is a remarkable protocol that enables the transfer of a quantum **state** from one qubit to another — even if the two qubits are far apart — without physically sending the qubit itself. This is not \"teleportation\" in the sci-fi sense of instant matter transfer, but rather a transmission of **quantum information**.\n",
    "\n",
    "This process relies on quantum entanglement, measurement, and classical communication:\n",
    "\n",
    "- **Quantum entanglement**, which links two particles in a shared state,\n",
    "- **Measurement**, which collapses quantum information in a controlled way, and\n",
    "- **Classical communication**, which transmits two classical bits of information.\n",
    "\n",
    "It is fundamental to quantum networks and quantum communication protocols."
   ]
  },
  {
   "cell_type": "markdown",
   "id": "9d020255",
   "metadata": {},
   "source": [
    "## Introduction\n",
    "\n",
    "Suppose Alice has a qubit in some state that she wants to send to Bob. Directly measuring the qubit would destroy its quantum state, and quantum mechanics forbids cloning it. So how can she transmit it?\n",
    "\n",
    "The solution lies in **quantum teleportation**, which uses the following setup:\n",
    "\n",
    "1. **Pre-shared entanglement**: Alice and Bob each hold one qubit from a maximally entangled pair (a Bell state).\n",
    "2. **Bell-state measurement**: Alice performs a joint measurement on her part of the entangled pair and the qubit she wants to teleport.\n",
    "3. **Classical communication**: She sends the result of her measurement (just 2 classical bits) to Bob.\n",
    "4. **Conditional correction**: Bob uses this information to apply a specific transformation to his qubit — after which it will be in the exact same quantum state that Alice's original qubit was in.\n",
    "\n",
    "Crucially, **the quantum state has moved**, but **no physical qubit has**.\n",
    "\n",
    "In this notebook, we’ll implement this protocol step by step using Qiskit and simulate its behavior using ideal and noisy backends."
   ]
  },
  {
   "cell_type": "markdown",
   "id": "2a0af7f4",
   "metadata": {},
   "source": [
    "## Prepare the initial state to teleport\n",
    "\n",
    "We setup a quantum circuit with three qubits:\n",
    "\n",
    "- $q_0$: Alice's qubit (the one to teleport)\n",
    "- $q_1$: Alice's half of the entangled pair\n",
    "- $q_2$: Bob's half of the entangled pair\n",
    "\n",
    "We’ll prepare $q_0$ in an arbitrary state, which you can experiment by changing the angles below."
   ]
  },
  {
   "cell_type": "code",
   "execution_count": 1,
   "id": "8701f65a",
   "metadata": {},
   "outputs": [
    {
     "data": {
      "image/png": "[encoded data removed]",
      "text/plain": [
       "<Figure size 305.525x367.889 with 1 Axes>"
      ]
     },
     "execution_count": 1,
     "metadata": {},
     "output_type": "execute_result"
    }
   ],
   "source": [
    "from qiskit import QuantumCircuit, QuantumRegister, ClassicalRegister\n",
    "from math import pi\n",
    "\n",
    "qr = QuantumRegister(3)    # 3 qubits: q_0 (Alice's data), q_1 (entangled pair), q_2 (Bob's qubit)\n",
    "cr = ClassicalRegister(2)  # only two classical bits for Alice's measurement\n",
    "qc = QuantumCircuit(qr, cr)\n",
    "\n",
    "# Qubit 0 is the one to be teleported (Alice's qubit)\n",
    "qc.ry(pi/4, 0)  # Change the state of qubit 0 by applying a rotation around the y-axis\n",
    "qc.barrier()\n",
    "qc.draw('mpl')"
   ]
  },
  {
   "cell_type": "markdown",
   "id": "2a145ac4",
   "metadata": {},
   "source": [
    "This qubit $q_0$ may be prepared in any state, and does not need to be by Alice. Someone (not even Bob) may prepare a qubit and give it to Alice as $q_0$.\n",
    "\n",
    "So, we write the state of $q_0$ as:\n",
    "\n",
    "$$\n",
    "|q_0\\rangle = \\alpha |0\\rangle + \\beta |1\\rangle\n",
    "$$"
   ]
  },
  {
   "cell_type": "markdown",
   "id": "f3098be4",
   "metadata": {},
   "source": [
    "## Alice creates the entangled pair\n",
    "\n",
    "We entangle $q_1$ and $q_2$ into a Bell pair. This is done by applying a Hadamard gate to $q_1$, followed by a CNOT gate with $q_1$ as control and $q_2$ as target."
   ]
  },
  {
   "cell_type": "code",
   "execution_count": 2,
   "id": "2cb81828",
   "metadata": {},
   "outputs": [
    {
     "data": {
      "image/png": "[encoded data removed]",
      "text/plain": [
       "<Figure size 556.358x367.889 with 1 Axes>"
      ]
     },
     "execution_count": 2,
     "metadata": {},
     "output_type": "execute_result"
    }
   ],
   "source": [
    "# Entangle qubits 1 and 2\n",
    "qc.h(1)\n",
    "qc.cx(1, 2)\n",
    "qc.barrier()\n",
    "qc.draw('mpl')"
   ]
  },
  {
   "cell_type": "markdown",
   "id": "2c42a555",
   "metadata": {},
   "source": [
    "$q_1$ and $q_2$ are now in the Bell state:\n",
    "\n",
    "$$\n",
    "|q_1q_2\\rangle = |\\Phi^+\\rangle = \\frac{1}{\\sqrt{2}} \\biggl( |00\\rangle + |11\\rangle \\biggr)\n",
    "$$\n",
    "\n",
    "The current state of the circuit is:\n",
    "\n",
    "$$\n",
    "\\begin{aligned}\n",
    "|\\psi\\rangle &= |q_0q_1q_2\\rangle = \\biggl(\\alpha|0\\rangle + \\beta |1\\rangle\\biggr) \\otimes \\frac{1}{\\sqrt{2}} \\biggl( |00\\rangle + |11\\rangle \\biggr) \\\\[2ex]\n",
    "&= \\frac{1}{\\sqrt{2}} \\biggl( \\alpha |000\\rangle + \\alpha |011\\rangle + \\beta |100\\rangle + \\beta |111\\rangle \\biggr) \\\\[2ex]\n",
    "\\end{aligned}\n",
    "$$\n",
    "\n",
    "This superposition is the starting point of the teleportation protocol."
   ]
  },
  {
   "cell_type": "markdown",
   "id": "ff734f0a",
   "metadata": {},
   "source": [
    "## Alice performs Bell measurement\n",
    "\n",
    "First, we realize that Alice's qubits $q_0$ and $q_1$ are in a 2-qubit state, which we can express in the Bell basis."
   ]
  },
  {
   "cell_type": "markdown",
   "id": "9428bea0",
   "metadata": {},
   "source": [
    "Recall the Bell states:\n",
    "\n",
    "$$\n",
    "\\begin{aligned}\n",
    "|\\Phi^+\\rangle &= \\frac{1}{\\sqrt{2}} \\biggl( |00\\rangle + |11\\rangle \\biggr) \\\\[2ex]\n",
    "|\\Phi^-\\rangle &= \\frac{1}{\\sqrt{2}} \\biggl( |00\\rangle - |11\\rangle \\biggr) \\\\[2ex]\n",
    "|\\Psi^+\\rangle &= \\frac{1}{\\sqrt{2}} \\biggl( |01\\rangle + |10\\rangle \\biggr) \\\\[2ex]\n",
    "|\\Psi^-\\rangle &= \\frac{1}{\\sqrt{2}} \\biggl( |01\\rangle - |10\\rangle \\biggr) \\\\[2ex]\n",
    "\\end{aligned}\n",
    "$$"
   ]
  },
  {
   "cell_type": "markdown",
   "id": "bb40ee0b",
   "metadata": {},
   "source": [
    "Therefore, $|00\\rangle$, $|01\\rangle$, $|10\\rangle$, and $|11\\rangle$ can be expressed as:\n",
    "\n",
    "$$\n",
    "\\begin{aligned}\n",
    "|00\\rangle &= \\frac{1}{\\sqrt{2}} \\biggl( |\\Phi^+\\rangle + |\\Phi^-\\rangle \\biggr) \\\\[2ex]\n",
    "|01\\rangle &= \\frac{1}{\\sqrt{2}} \\biggl( |\\Psi^+\\rangle + |\\Psi^-\\rangle \\biggr) \\\\[2ex]\n",
    "|10\\rangle &= \\frac{1}{\\sqrt{2}} \\biggl( |\\Psi^+\\rangle - |\\Psi^-\\rangle \\biggr) \\\\[2ex]\n",
    "|11\\rangle &= \\frac{1}{\\sqrt{2}} \\biggl( |\\Phi^+\\rangle - |\\Phi^-\\rangle \\biggr) \\\\[2ex]\n",
    "\\end{aligned}\n",
    "$$"
   ]
  },
  {
   "cell_type": "markdown",
   "id": "e35182a4",
   "metadata": {},
   "source": [
    "We express Alice's qubits $q_0$ and $q_1$ in the Bell basis:\n",
    "\n",
    "$$\n",
    "\\begin{aligned}\n",
    "|\\psi\\rangle &= \\frac{1}{\\sqrt{2}} \\biggl( \\alpha |000\\rangle + \\alpha |011\\rangle + \\beta |100\\rangle + \\beta |111\\rangle \\biggr) \\\\[2ex]\n",
    "&= \\frac{1}{\\sqrt{2}} \\biggl( \\alpha \\frac{1}{\\sqrt{2}} \\biggl( |\\Phi^+\\rangle + |\\Phi^-\\rangle \\biggr) \\otimes |0\\rangle + \\alpha \\frac{1}{\\sqrt{2}} \\biggl( |\\Psi^+\\rangle + |\\Psi^-\\rangle \\biggr) \\otimes |1\\rangle + \\\\\n",
    "&\\qquad\\quad\\ \\ \\; \\beta \\frac{1}{\\sqrt{2}} \\biggl( |\\Psi^+\\rangle - |\\Psi^-\\rangle \\biggr) \\otimes |0\\rangle + \\beta \\frac{1}{\\sqrt{2}} \\biggl( |\\Phi^+\\rangle - |\\Phi^-\\rangle \\biggr) \\otimes |1\\rangle \\biggr) \\\\[2ex]\n",
    "&= \\frac{1}{2} \\biggl[ |\\Phi^+\\rangle \\otimes \\biggl( \\alpha|0\\rangle + \\beta|1\\rangle\\biggr) + |\\Phi^-\\rangle \\otimes \\biggl( \\alpha|0\\rangle - \\beta|1\\rangle\\biggr) + |\\Psi^+\\rangle \\otimes \\biggl( \\alpha|1\\rangle + \\beta|0\\rangle\\biggr) + |\\Psi^-\\rangle \\otimes \\biggl( \\alpha|1\\rangle - \\beta|0\\rangle\\biggr) \\biggr] \\\\[2ex]\n",
    "&= \\frac{1}{2} \\biggl[ |\\Phi^+\\rangle \\otimes |q_0\\rangle + |\\Phi^-\\rangle \\otimes Z|q_0\\rangle + |\\Psi^+\\rangle \\otimes X|q_0\\rangle + |\\Psi^-\\rangle \\otimes XZ|q_0\\rangle \\biggr] \\\\[2ex]\n",
    "\\end{aligned}\n",
    "$$\n",
    "\n",
    "If we measure $q_0$ and $q_1$ in the Bell basis, we will collapse the state into one of the four Bell states.\n",
    "\n",
    "Then, we know which state Bob's qubit $q_2$ is in, and he can apply the corresponding correction to obtain the original state of $q_0$."
   ]
  },
  {
   "cell_type": "markdown",
   "id": "55ccc4e8",
   "metadata": {},
   "source": [
    "Alice performs a Bell measurement on her two qubits $q_0$ and $q_1$ by applying a CNOT gate from $q_0$ (control) to $q_1$ (target) followed by a Hadamard gate on $q_0$.\n",
    "\n",
    "This transforms the Bell states into the computational basis as follows:\n",
    "\n",
    "$$\n",
    "\\begin{aligned}\n",
    "\\text{H}_0 \\text{CX}_{01} |\\Phi^+\\rangle &= \\text{H}_0 \\text{CX}_{01} \\frac{1}{\\sqrt{2}} \\biggl( |00\\rangle + |11\\rangle \\biggr) = \\text{H}_0 \\frac{1}{\\sqrt{2}} \\biggl( |00\\rangle + |10\\rangle \\biggr) = \\frac{1}{2} \\biggl( |00\\rangle + |10\\rangle + |00\\rangle - |10\\rangle \\biggr) = |00\\rangle \\\\[2ex]\n",
    "\\text{H}_0 \\text{CX}_{01} |\\Phi^-\\rangle &= \\text{H}_0 \\text{CX}_{01} \\frac{1}{\\sqrt{2}} \\biggl( |00\\rangle - |11\\rangle \\biggr) = \\text{H}_0 \\frac{1}{\\sqrt{2}} \\biggl( |00\\rangle - |10\\rangle \\biggr) = \\frac{1}{2} \\biggl( |00\\rangle + |10\\rangle - |00\\rangle + |10\\rangle \\biggr) = |10\\rangle \\\\[2ex]\n",
    "\\text{H}_0 \\text{CX}_{01} |\\Psi^+\\rangle &= \\text{H}_0 \\text{CX}_{01} \\frac{1}{\\sqrt{2}} \\biggl( |01\\rangle + |10\\rangle \\biggr) = \\text{H}_0 \\frac{1}{\\sqrt{2}} \\biggl( |01\\rangle + |11\\rangle \\biggr) = \\frac{1}{2} \\biggl( |01\\rangle + |11\\rangle + |01\\rangle - |11\\rangle \\biggr) = |01\\rangle \\\\[2ex]\n",
    "\\text{H}_0 \\text{CX}_{01} |\\Psi^-\\rangle &= \\text{H}_0 \\text{CX}_{01} \\frac{1}{\\sqrt{2}} \\biggl( |01\\rangle - |10\\rangle \\biggr) = \\text{H}_0 \\frac{1}{\\sqrt{2}} \\biggl( |01\\rangle - |11\\rangle \\biggr) = \\frac{1}{2} \\biggl( |01\\rangle + |11\\rangle - |01\\rangle + |11\\rangle \\biggr) = |11\\rangle \\\\[2ex]\n",
    "\\end{aligned}\n",
    "$$\n",
    "\n",
    "So measuring $q_0$ and $q_1$ in the computational basis after this transformation is equivalent to performing a Bell measurement."
   ]
  },
  {
   "cell_type": "code",
   "execution_count": 3,
   "id": "e14db955",
   "metadata": {},
   "outputs": [
    {
     "data": {
      "image/png": "[encoded data removed]",
      "text/plain": [
       "<Figure size 807.192x367.889 with 1 Axes>"
      ]
     },
     "execution_count": 3,
     "metadata": {},
     "output_type": "execute_result"
    }
   ],
   "source": [
    "# Bell measurement\n",
    "qc.cx(0, 1)       # Entangles qubit 0 with 1 (control = q_0, target = q_1)\n",
    "qc.h(0)           # Completes the Bell measurement (Measurement in the Bell basis)\n",
    "qc.measure(qr[0], cr[0])  # Measure qubit 0 into classical bit 0\n",
    "qc.measure(qr[1], cr[1])  # Measure qubit 1 into classical bit 1\n",
    "qc.draw('mpl')"
   ]
  },
  {
   "cell_type": "markdown",
   "id": "ed70056f",
   "metadata": {},
   "source": [
    "Alice's measurement will yield one of the four Bell states. She only needs to do this once. \n",
    "\n",
    "But here we will simulate it many times to see the distribution of the results. "
   ]
  },
  {
   "cell_type": "code",
   "execution_count": 4,
   "id": "0f7bf607",
   "metadata": {},
   "outputs": [
    {
     "data": {
      "image/png": "[encoded data removed]",
      "text/plain": [
       "<Figure size 640x480 with 1 Axes>"
      ]
     },
     "execution_count": 4,
     "metadata": {},
     "output_type": "execute_result"
    }
   ],
   "source": [
    "from qiskit import transpile\n",
    "from qiskit_aer import AerSimulator\n",
    "from qiskit.visualization import plot_histogram\n",
    "\n",
    "backend = AerSimulator()\n",
    "compiled = transpile(qc, backend)\n",
    "job = backend.run(compiled, shots=1024)\n",
    "result = job.result()\n",
    "counts = result.get_counts()\n",
    "\n",
    "plot_histogram(counts)"
   ]
  },
  {
   "cell_type": "markdown",
   "id": "b97b5169",
   "metadata": {},
   "source": [
    "**Note on bit order:**  \n",
    "Qiskit uses little-endian ordering when returning measurement results. This means that a bitstring like `'10'` corresponds to:\n",
    "\n",
    "- `c[1] = 1` (measurement of `q_1`)\n",
    "- `c[0] = 0` (measurement of `q_0`)\n",
    "\n",
    "So `'10'` represents:\n",
    "\n",
    "$$\n",
    "|q_1 q_0\\rangle = |10\\rangle \\quad \\text{which is} \\quad |q_0 q_1\\rangle = |01\\rangle\n",
    "$$\n",
    "\n",
    "In other words, the bitstrings shown in the histogram (e.g., `'01'`, `'10'`) represent classical measurement outcomes ordered as `[q_1, q_0]`, which corresponds to $|q_0 q_1\\rangle$ in the equations. This is important to remember when interpreting the results.\n",
    "\n",
    "\n",
    "After Alice performs a Bell measurement on her two qubits (`q_0` and `q_1`), the system collapses into one of the four Bell states. The mapping between Qiskit's measurement results and the corresponding Bell states is:\n",
    "\n",
    "| Qiskit result `'c[1]c[0]'` | Qubit values \\|q_0 q_1>  | Bell state        |\n",
    "|----------------------------|--------------------------|-------------------|\n",
    "| `'00'`                     | \\|00>                    | $\\Phi^+$          |\n",
    "| `'01'`                     | \\|10>                    | $\\Phi^-$          |\n",
    "| `'10'`                     | \\|01>                    | $\\Psi^+$          |\n",
    "| `'11'`                     | \\|11>                    | $\\Psi^-$          |\n",
    "\n",
    "As seen in the histogram, these outcomes appear with roughly equal probability (with small variations due to simulation noise), as expected from an ideal Bell measurement.\n",
    "\n",
    "Alice only performs this measurement once, then sends the resulting **two classical bits** to Bob through a classical channel. These bits are all the information Bob needs to determine the correct **Pauli correction** to recover the original quantum state on his qubit.\n"
   ]
  },
  {
   "cell_type": "markdown",
   "id": "e5212255",
   "metadata": {},
   "source": [
    "## Bob applies correction using classical bits from Alice\n",
    "\n",
    "Recall that the state of the circuit after Alice's Bell measurement is:\n",
    "\n",
    "$$\n",
    "|\\psi\\rangle = \\frac{1}{2} \\biggl[ |\\Phi^+\\rangle \\otimes |q_0\\rangle + |\\Phi^-\\rangle \\otimes Z|q_0\\rangle + |\\Psi^+\\rangle \\otimes X|q_0\\rangle + |\\Psi^-\\rangle \\otimes XZ|q_0\\rangle \\biggr]\n",
    "$$\n",
    "\n",
    "The Pauli gates X and Z are self-inverse, meaning:\n",
    "\n",
    "$$\n",
    "X^2 = I \\quad \\text{and} \\quad Z^2 = I\n",
    "$$\n",
    "\n",
    "This makes them ideal for corrections — applying the same gate again reverses the effect.\n",
    "\n",
    "Bob applies corrections based on the classical bits sent by Alice:\n",
    "\n",
    "- If Alice measured `00` corresponding to $|\\Phi^+\\rangle$, no correction is needed\n",
    "- If Alice measured `10` corresponding to $|\\Phi^-\\rangle$, Bob applies Z\n",
    "- If Alice measured `01` corresponding to $|\\Psi^+\\rangle$, Bob applies X\n",
    "- If Alice measured `11` corresponding to $|\\Psi^-\\rangle$, Bob applies ZX\n",
    "\n",
    "Let’s build a new circuit that includes these conditional operations."
   ]
  },
  {
   "cell_type": "markdown",
   "id": "9a63df45",
   "metadata": {},
   "source": [
    "## Conclusion\n",
    "\n",
    "Quantum teleportation enables the transfer of an unknown quantum state from one qubit to another — without physically transmitting the qubit itself. This remarkable protocol works by leveraging the unique principles of quantum mechanics:\n",
    "\n",
    "- **Entanglement**: A shared Bell pair links the sender and receiver qubits.\n",
    "- **Measurement**: The sender performs a joint measurement in the Bell basis, collapsing the system.\n",
    "- **Classical communication**: Two classical bits are sent to the receiver.\n",
    "- **Correction**: The receiver uses this information to apply a transformation that reconstructs the original state.\n",
    "\n",
    "Quantum teleportation is not just a theoretical curiosity — it is a cornerstone for emerging technologies like quantum networks, quantum repeaters, distributed quantum computing, and secure quantum communication.\n"
   ]
  }
 ],
 "metadata": {
  "kernelspec": {
   "display_name": ".venv",
   "language": "python",
   "name": "python3"
  },
  "language_info": {
   "codemirror_mode": {
    "name": "ipython",
    "version": 3
   },
   "file_extension": ".py",
   "mimetype": "text/x-python",
   "name": "python",
   "nbconvert_exporter": "python",
   "pygments_lexer": "ipython3",
   "version": "3.9.6"
  }
 },
 "nbformat": 4,
 "nbformat_minor": 5
}

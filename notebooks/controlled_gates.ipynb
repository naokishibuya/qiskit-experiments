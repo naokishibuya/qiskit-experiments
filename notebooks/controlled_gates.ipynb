{
 "cells": [
  {
   "cell_type": "markdown",
   "id": "09f69c9c",
   "metadata": {},
   "source": [
    "# Controlled Gates"
   ]
  },
  {
   "cell_type": "markdown",
   "id": "33ef2249",
   "metadata": {},
   "source": [
    "## Controlled-NOT (CNOT, CX) gate"
   ]
  },
  {
   "cell_type": "code",
   "execution_count": 1,
   "id": "8fe84287",
   "metadata": {},
   "outputs": [
    {
     "data": {
      "image/png": "[encoded data removed]",
      "text/plain": [
       "<Figure size 287.294x200.667 with 1 Axes>"
      ]
     },
     "execution_count": 1,
     "metadata": {},
     "output_type": "execute_result"
    }
   ],
   "source": [
    "from qiskit import QuantumCircuit\n",
    "\n",
    "qc = QuantumCircuit(2)\n",
    "\n",
    "# Let's set the first qubit to |1⟩ state\n",
    "qc.x(0)\n",
    "\n",
    "# Apply CNOT gate with control qubit 0 and target qubit 1\n",
    "qc.cx(0, 1)\n",
    "\n",
    "# Draw the circuit\n",
    "qc.draw('mpl')"
   ]
  },
  {
   "cell_type": "code",
   "execution_count": 2,
   "id": "f8bfec64",
   "metadata": {},
   "outputs": [
    {
     "name": "stdout",
     "output_type": "stream",
     "text": [
      "State vector: Statevector([0.+0.j, 0.+0.j, 0.+0.j, 1.+0.j],\n",
      "            dims=(2, 2))\n",
      "Probabilities: [0. 0. 0. 1.]\n"
     ]
    }
   ],
   "source": [
    "# State vector\n",
    "from qiskit.quantum_info import Statevector\n",
    "\n",
    "state = Statevector.from_instruction(qc)\n",
    "print(\"State vector:\", state)\n",
    "\n",
    "# Probability of measuring |00⟩ and |01⟩\n",
    "probabilities = state.probabilities()\n",
    "print(\"Probabilities:\", probabilities)  # Should show |11⟩ with probability 1"
   ]
  },
  {
   "cell_type": "markdown",
   "id": "7698c3d4",
   "metadata": {},
   "source": [
    "## Controlled-Controlled-NOT (CCNOT, Toffoli) gate"
   ]
  },
  {
   "cell_type": "code",
   "execution_count": 3,
   "id": "259328c1",
   "metadata": {},
   "outputs": [
    {
     "data": {
      "image/png": "[encoded data removed]",
      "text/plain": [
       "<Figure size 287.496x284.278 with 1 Axes>"
      ]
     },
     "execution_count": 3,
     "metadata": {},
     "output_type": "execute_result"
    }
   ],
   "source": [
    "qc = QuantumCircuit(3)\n",
    "\n",
    "# Let's set the first two qubits to |1⟩ state\n",
    "qc.x(0)\n",
    "qc.x(1)\n",
    "\n",
    "# Apply CCNOT gate with control qubits 0 and 1, and target qubit 2\n",
    "qc.ccx(0, 1, 2)\n",
    "\n",
    "# Draw the circuit\n",
    "qc.draw('mpl')"
   ]
  },
  {
   "cell_type": "code",
   "execution_count": 4,
   "id": "8d18bdff",
   "metadata": {},
   "outputs": [
    {
     "name": "stdout",
     "output_type": "stream",
     "text": [
      "State vector: Statevector([0.+0.j, 0.+0.j, 0.+0.j, 0.+0.j, 0.+0.j, 0.+0.j, 0.+0.j,\n",
      "             1.+0.j],\n",
      "            dims=(2, 2, 2))\n",
      "Probabilities: [0. 0. 0. 0. 0. 0. 0. 1.]\n"
     ]
    }
   ],
   "source": [
    "# State vector\n",
    "state = Statevector.from_instruction(qc)\n",
    "print(\"State vector:\", state)\n",
    "\n",
    "# Probability of measuring |000⟩, |001⟩, |010⟩, and |011⟩\n",
    "probabilities = state.probabilities()\n",
    "print(\"Probabilities:\", probabilities)  # Should show |111⟩ with probability 1"
   ]
  }
 ],
 "metadata": {
  "kernelspec": {
   "display_name": ".venv",
   "language": "python",
   "name": "python3"
  },
  "language_info": {
   "codemirror_mode": {
    "name": "ipython",
    "version": 3
   },
   "file_extension": ".py",
   "mimetype": "text/x-python",
   "name": "python",
   "nbconvert_exporter": "python",
   "pygments_lexer": "ipython3",
   "version": "3.13.3"
  }
 },
 "nbformat": 4,
 "nbformat_minor": 5
}
